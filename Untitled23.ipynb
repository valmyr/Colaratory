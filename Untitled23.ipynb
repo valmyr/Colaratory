{
  "nbformat": 4,
  "nbformat_minor": 0,
  "metadata": {
    "colab": {
      "name": "Untitled23.ipynb",
      "provenance": [],
      "authorship_tag": "ABX9TyNHjR74mPp1I/p/X03T7hjp",
      "include_colab_link": true
    },
    "kernelspec": {
      "name": "python3",
      "display_name": "Python 3"
    },
    "language_info": {
      "name": "python"
    }
  },
  "cells": [
    {
      "cell_type": "markdown",
      "metadata": {
        "id": "view-in-github",
        "colab_type": "text"
      },
      "source": [
        "<a href=\"https://colab.research.google.com/github/valmyr/Colaratory/blob/main/Untitled23.ipynb\" target=\"_parent\"><img src=\"https://colab.research.google.com/assets/colab-badge.svg\" alt=\"Open In Colab\"/></a>"
      ]
    },
    {
      "cell_type": "code",
      "execution_count": null,
      "metadata": {
        "id": "1ta7SVTqGrfs"
      },
      "outputs": [],
      "source": [
        "import numpy as np\n",
        "l1 = lambda x2,x3: (25 - 7*x2 + 4*x3)/17\n",
        "l2 = lambda x1,x3: (18 + 7*x1 - 8*x3)/20\n",
        "l3 = lambda x1,x2: (23 - 6*x1 - 8*x2)/25"
      ]
    },
    {
      "cell_type": "code",
      "source": [
        "x=[0,0,0]\n",
        "print(l1(x[1],x[2]),l2(x[0],x[2]),l3(x[0],x[1]))\n",
        "y =[]\n",
        "y.append(l1(x[1],x[2]))\n",
        "y.append(l2(x[0],x[2]))\n",
        "y.append(l3(x[0],x[1]))\n",
        "print(abs(x[0] - y[0]),abs(x[1] - y[1]),abs(x[2] - y[2]))\n",
        "x = y"
      ],
      "metadata": {
        "colab": {
          "base_uri": "https://localhost:8080/"
        },
        "id": "a-QgwC36HdEW",
        "outputId": "19f372e5-b3e9-49e9-de4e-b62b978682a9"
      },
      "execution_count": null,
      "outputs": [
        {
          "output_type": "stream",
          "name": "stdout",
          "text": [
            "1.4705882352941178 0.9 0.92\n",
            "1.4705882352941178 0.9 0.92\n"
          ]
        }
      ]
    },
    {
      "cell_type": "code",
      "source": [
        "print(l1(x[1],x[2]),l2(x[0],x[2]),l3(x[0],x[1]))\n",
        "y =[]\n",
        "y.append(l1(x[1],x[2]))\n",
        "y.append(l2(x[0],x[2]))\n",
        "y.append(l3(x[0],x[1]))\n",
        "\n",
        "print(abs(x[0] - y[0]),abs(x[1] - y[1]),abs(x[2] - y[2]))\n",
        "x = y"
      ],
      "metadata": {
        "colab": {
          "base_uri": "https://localhost:8080/"
        },
        "id": "T6_31LFhLX2F",
        "outputId": "48755372-b955-4f56-a08a-3b0604648308"
      },
      "execution_count": null,
      "outputs": [
        {
          "output_type": "stream",
          "name": "stdout",
          "text": [
            "1.316470588235294 1.0467058823529414 0.27905882352941175\n",
            "0.1541176470588237 0.14670588235294135 0.6409411764705883\n"
          ]
        }
      ]
    },
    {
      "cell_type": "code",
      "source": [
        "print(l1(x[1],x[2]),l2(x[0],x[2]),l3(x[0],x[1]))\n",
        "y =[]\n",
        "y.append(l1(x[1],x[2]))\n",
        "y.append(l2(x[0],x[2]))\n",
        "y.append(l3(x[0],x[1]))\n",
        "\n",
        "print(abs(x[0] - y[0]),abs(x[1] - y[1]),abs(x[2] - y[2]))\n",
        "x = y"
      ],
      "metadata": {
        "colab": {
          "base_uri": "https://localhost:8080/"
        },
        "id": "d5SaSsJJMPde",
        "outputId": "081b6bee-075a-46c3-984a-4f7edbee0cb1"
      },
      "execution_count": null,
      "outputs": [
        {
          "output_type": "stream",
          "name": "stdout",
          "text": [
            "1.1052525951557093 1.2491411764705882 0.2691011764705882\n",
            "0.21121799307958478 0.20243529411764682 0.009957647058823571\n"
          ]
        }
      ]
    },
    {
      "cell_type": "code",
      "source": [
        "print(l1(x[1],x[2]),l2(x[0],x[2]),l3(x[0],x[1]))\n",
        "y =[]\n",
        "y.append(l1(x[1],x[2]))\n",
        "y.append(l2(x[0],x[2]))\n",
        "y.append(l3(x[0],x[1]))\n",
        "\n",
        "print(abs(x[0] - y[0]),abs(x[1] - y[1]),abs(x[2] - y[2]))\n",
        "x = y"
      ],
      "metadata": {
        "colab": {
          "base_uri": "https://localhost:8080/"
        },
        "id": "PdnLVUypMr4p",
        "outputId": "73d41866-811a-417b-eee4-fee410c17796"
      },
      "execution_count": null,
      "outputs": [
        {
          "output_type": "stream",
          "name": "stdout",
          "text": [
            "1.019553910034602 1.179197937716263 0.25501420069204156\n",
            "0.08569868512110723 0.06994323875432529 0.014086975778546618\n"
          ]
        }
      ]
    },
    {
      "cell_type": "code",
      "source": [
        "print(l1(x[1],x[2]),l2(x[0],x[2]),l3(x[0],x[1]))\n",
        "y =[]\n",
        "y.append(l1(x[1],x[2]))\n",
        "y.append(l2(x[0],x[2]))\n",
        "y.append(l3(x[0],x[1]))\n",
        "\n",
        "print(abs(x[0] - y[0]),abs(x[1] - y[1]),abs(x[2] - y[2]))\n",
        "x = y"
      ],
      "metadata": {
        "colab": {
          "base_uri": "https://localhost:8080/"
        },
        "id": "vBgJmuLNNK6k",
        "outputId": "76fd1191-b520-4785-8eb1-119461d5cd3d"
      },
      "execution_count": null,
      "outputs": [
        {
          "output_type": "stream",
          "name": "stdout",
          "text": [
            "1.0450394846326074 1.154838188235294 0.2979637215224914\n",
            "0.02548557459800538 0.024359749480968862 0.04294952083044984\n"
          ]
        }
      ]
    },
    {
      "cell_type": "code",
      "source": [
        "print(l1(x[1],x[2]),l2(x[0],x[2]),l3(x[0],x[1]))\n",
        "y =[]\n",
        "y.append(l1(x[1],x[2]))\n",
        "y.append(l2(x[0],x[2]))\n",
        "y.append(l3(x[0],x[1]))\n",
        "\n",
        "print(abs(x[0] - y[0]),abs(x[1] - y[1]),abs(x[2] - y[2]))\n",
        "x = y"
      ],
      "metadata": {
        "colab": {
          "base_uri": "https://localhost:8080/"
        },
        "id": "xO5BUIeMNcW6",
        "outputId": "4a578a5a-5edc-483c-8316-4c05f4b622f8"
      },
      "execution_count": null,
      "outputs": [
        {
          "output_type": "stream",
          "name": "stdout",
          "text": [
            "1.065175739320171 1.146578331012416 0.29964230345288007\n",
            "0.020136254687563637 0.008259857222878031 0.0016785819303886673\n"
          ]
        }
      ]
    },
    {
      "cell_type": "code",
      "source": [
        "print(l1(x[1],x[2]),l2(x[0],x[2]),l3(x[0],x[1]))\n",
        "y =[]\n",
        "y.append(l1(x[1],x[2]))\n",
        "y.append(l2(x[0],x[2]))\n",
        "y.append(l3(x[0],x[1]))\n",
        "\n",
        "print(abs(x[0] - y[0]),abs(x[1] - y[1]),abs(x[2] - y[2]))\n",
        "x = y"
      ],
      "metadata": {
        "colab": {
          "base_uri": "https://localhost:8080/"
        },
        "id": "DXv9OYoRNrfm",
        "outputId": "40989c76-c376-4985-85d4-4bef70b6193c"
      },
      "execution_count": null,
      "outputs": [
        {
          "output_type": "stream",
          "name": "stdout",
          "text": [
            "1.0689718174543887 1.1529545873809077 0.29745275663918574\n",
            "0.003796078134217673 0.006376256368491706 0.002189546813694321\n"
          ]
        }
      ]
    },
    {
      "cell_type": "code",
      "source": [
        "print(l1(x[1],x[2]),l2(x[0],x[2]),l3(x[0],x[1]))\n",
        "y =[]\n",
        "y.append(l1(x[1],x[2]))\n",
        "y.append(l2(x[0],x[2]))\n",
        "y.append(l3(x[0],x[1]))\n",
        "\n",
        "print(abs(x[0] - y[0]),abs(x[1] - y[1]),abs(x[2] - y[2]))\n",
        "x = y"
      ],
      "metadata": {
        "colab": {
          "base_uri": "https://localhost:8080/"
        },
        "id": "-yyGdya0OKTx",
        "outputId": "da6d99cc-d85c-4e31-c3e5-518ff374efad"
      },
      "execution_count": null,
      "outputs": [
        {
          "output_type": "stream",
          "name": "stdout",
          "text": [
            "1.065831112640611 1.1551590334533617 0.29450129584905627\n",
            "0.003140704813777706 0.0022044460724539583 0.0029514607901294787\n"
          ]
        }
      ]
    },
    {
      "cell_type": "code",
      "source": [
        ""
      ],
      "metadata": {
        "id": "jNdouKAjOcYn"
      },
      "execution_count": null,
      "outputs": []
    },
    {
      "cell_type": "code",
      "source": [
        "print(l1(x[1],x[2]),l2(x[0],x[2]),l3(x[0],x[1]))\n",
        "y =[]\n",
        "y.append(l1(x[1],x[2]))\n",
        "y.append(l2(x[0],x[2]))\n",
        "y.append(l3(x[0],x[1]))\n",
        "\n",
        "print(abs(x[0] - y[0]),abs(x[1] - y[1]),abs(x[2] - y[2]))\n",
        "x = y"
      ],
      "metadata": {
        "colab": {
          "base_uri": "https://localhost:8080/"
        },
        "id": "PYeEDhTVOcei",
        "outputId": "37eae20a-dad1-4da7-d466-94910f0071bc"
      },
      "execution_count": null,
      "outputs": [
        {
          "output_type": "stream",
          "name": "stdout",
          "text": [
            "1.0642289381895702 1.1552403710845913 0.2945496422611775\n",
            "0.0016021744510408276 8.133763122963877e-05 4.834641212125845e-05\n"
          ]
        }
      ]
    },
    {
      "cell_type": "code",
      "source": [
        "import numpy as np\n",
        "f = lambda x: 5*np.sin(2*x)-3*np.cos(x)\n",
        "a = -3\n",
        "b = -2\n",
        "x = np.arange(a,b,(b-a)/10)\n",
        "print(x)\n",
        "y = [f(x[i]) for i in range(len(x))]\n",
        "print(y)"
      ],
      "metadata": {
        "colab": {
          "base_uri": "https://localhost:8080/"
        },
        "id": "heWZqkZJaP_s",
        "outputId": "1ca0f8a8-5a31-455a-ecab-2450e78008f3"
      },
      "execution_count": null,
      "outputs": [
        {
          "output_type": "stream",
          "name": "stdout",
          "text": [
            "[-3.  -2.9 -2.8 -2.7 -2.6 -2.5 -2.4 -2.3 -2.2 -2.1]\n",
            "[4.367054980795966, 5.235885392517559, 5.983000211367583, 6.576038863831121, 6.987939538707609, 7.198052219956494, 7.19300419080294, 6.967283082006793, 6.523513721213614, 5.872417175867507]\n"
          ]
        }
      ]
    }
  ]
}