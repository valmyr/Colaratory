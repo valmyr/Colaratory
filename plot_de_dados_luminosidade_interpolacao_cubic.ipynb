{
  "nbformat": 4,
  "nbformat_minor": 0,
  "metadata": {
    "colab": {
      "name": "plotdedados_luminosidade.ipynb",
      "provenance": [],
      "collapsed_sections": [],
      "authorship_tag": "ABX9TyM6Yh1E5WmHXv1aux3T7Ff5",
      "include_colab_link": true
    },
    "kernelspec": {
      "name": "python3",
      "display_name": "Python 3"
    },
    "language_info": {
      "name": "python"
    }
  },
  "cells": [
    {
      "cell_type": "markdown",
      "metadata": {
        "id": "view-in-github",
        "colab_type": "text"
      },
      "source": [
        "<a href=\"https://colab.research.google.com/github/valmyr/Colaratory/blob/main/plot_de_dados_luminosidade_interpolacao_cubic.ipynb\" target=\"_parent\"><img src=\"https://colab.research.google.com/assets/colab-badge.svg\" alt=\"Open In Colab\"/></a>"
      ]
    },
    {
      "cell_type": "code",
      "execution_count": null,
      "metadata": {
        "id": "paYN-AAoOrCW"
      },
      "outputs": [],
      "source": [
        "import numpy as np\n",
        "import matplotlib.pyplot as plt\n",
        "from scipy.interpolate import interp1d\n"
      ]
    },
    {
      "cell_type": "code",
      "source": [
        "file = open('/content/dados.txt','r')\n",
        "lumi1 = []\n",
        "lumi2 = []\n",
        "lumi3 = []\n",
        "lumi4 = []\n",
        "lumimed = []\n",
        "\n",
        "for lin in file:\n",
        "  lumi1.append((lin.split(',')[7]))\n",
        "  lumi2.append((lin.split(',')[8]))\n",
        "  lumi3.append((lin.split(',')[9]))\n",
        "  lumi4.append((lin.split(',')[10]))\n",
        "  lumimed.append((lin.split(',')[11].replace('°','')))\n",
        "t = np.arange(0,len(lumi1)/10,0.1)"
      ],
      "metadata": {
        "id": "uUd7DRRMPJHS"
      },
      "execution_count": null,
      "outputs": []
    },
    {
      "cell_type": "code",
      "source": [
        "def l(t,lumi1,s):\n",
        "  measured_time = t\n",
        "  measures = lumi1\n",
        "  cubic_interp = interp1d(t, lumi1, kind='cubic')\n",
        "  cubic_results = cubic_interp(t)\n",
        "  pl.plot(t, cubic_results, label=s)\n",
        "  pl.legend()"
      ],
      "metadata": {
        "id": "VPBPmZKhO4Pd"
      },
      "execution_count": null,
      "outputs": []
    },
    {
      "cell_type": "code",
      "source": [
        "l(t,lumi1,'luminosidade sensor1')\n",
        "l(t,lumi2,'luminosidade sensor2')\n",
        "l(t,lumi3,'luminosidade sensor3')\n",
        "l(t,lumi4,'luminosidade sensor4')\n",
        "l(t,lumimed,'luminosidade média')"
      ],
      "metadata": {
        "id": "9FSFn7M6W97x"
      },
      "execution_count": null,
      "outputs": []
    },
    {
      "cell_type": "code",
      "source": [
        "plt.show()"
      ],
      "metadata": {
        "id": "KTy_KMDuY6Ws"
      },
      "execution_count": null,
      "outputs": []
    }
  ]
}