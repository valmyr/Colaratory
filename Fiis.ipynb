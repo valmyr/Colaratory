{
  "nbformat": 4,
  "nbformat_minor": 0,
  "metadata": {
    "colab": {
      "name": "Fiis.ipynb",
      "provenance": [],
      "authorship_tag": "ABX9TyPUdECFv7oKjshZjmddzbr/",
      "include_colab_link": true
    },
    "kernelspec": {
      "name": "python3",
      "display_name": "Python 3"
    },
    "language_info": {
      "name": "python"
    }
  },
  "cells": [
    {
      "cell_type": "markdown",
      "metadata": {
        "id": "view-in-github",
        "colab_type": "text"
      },
      "source": [
        "<a href=\"https://colab.research.google.com/github/valmyr/Colaratory/blob/main/Fiis.ipynb\" target=\"_parent\"><img src=\"https://colab.research.google.com/assets/colab-badge.svg\" alt=\"Open In Colab\"/></a>"
      ]
    },
    {
      "cell_type": "code",
      "execution_count": 25,
      "metadata": {
        "id": "gjV9IBe7zMdW"
      },
      "outputs": [],
      "source": [
        ""
      ]
    },
    {
      "cell_type": "code",
      "execution_count": 26,
      "metadata": {
        "id": "B4ivtOCJAn0F"
      },
      "outputs": [],
      "source": [
        "\n",
        "Fiis= {\"Nomes\": [\"RZTR11\",\"VGIR11\",\"HCTR11\",\"VRTA11\",\"DEVA11\"],\"Preço\":[100.50,99.71,122.80,105.30,102.40],\"Dividendo/Fundos\":[1.25,1.10,1.60,1.25,1.25]}\n",
        "ValorInvestidoPorFundo = 1600"
      ]
    },
    {
      "cell_type": "code",
      "source": [
        "\n",
        "Fiis[\"Quantidade\"]=[int(ValorInvestidoPorFundo/Fiis.get(\"Preço\")[i])for i in range(len(Fiis.get(\"Preço\")))]\n",
        "Fiis[\"Rendimento Esperado\"] = [Fiis[\"Dividendo/Fundos\"][i]*Fiis[\"Quantidade\"][i] for i in range(len(Fiis[\"Dividendo/Fundos\"]))]\n",
        "Fiis[\"Valor Total Investido\"] = [len(Fiis[\"Nomes\"])*ValorInvestidoPorFundo]\n",
        "Fiis[\"Rendimento Total / Mês\"] = [int(sum(Fiis[\"Rendimento Esperado\"]))]\n",
        "\n",
        "Fiis[\"Total de Fundos\"] = [sum(Fiis[\"Quantidade\"])]"
      ],
      "metadata": {
        "id": "JV3AuXa-0Z-g"
      },
      "execution_count": 27,
      "outputs": []
    },
    {
      "cell_type": "code",
      "source": [
        "for i in Fiis:\n",
        "  print(i)\n",
        "  k = 1\n",
        "  for j in Fiis[i]:\n",
        "    print(f'{\" \"*2} {k}',\" \",end='')\n",
        "    if(type(j) == str):\n",
        "      print(f'{j}')\n",
        "    else:\n",
        "      print(f'{j:.2f}')\n",
        "    k+=1\n",
        "\n",
        "print()\n"
      ],
      "metadata": {
        "colab": {
          "base_uri": "https://localhost:8080/"
        },
        "id": "q21838ZX30Pc",
        "outputId": "c8d4cc0f-8789-4307-b719-f9b3cf2ba74e"
      },
      "execution_count": 28,
      "outputs": [
        {
          "output_type": "stream",
          "name": "stdout",
          "text": [
            "Nomes\n",
            "   1  RZTR11\n",
            "   2  VGIR11\n",
            "   3  HCTR11\n",
            "   4  VRTA11\n",
            "   5  DEVA11\n",
            "Preço\n",
            "   1  100.50\n",
            "   2  99.71\n",
            "   3  122.80\n",
            "   4  105.30\n",
            "   5  102.40\n",
            "Dividendo/Fundos\n",
            "   1  1.25\n",
            "   2  1.10\n",
            "   3  1.60\n",
            "   4  1.25\n",
            "   5  1.25\n",
            "Quantidade\n",
            "   1  15.00\n",
            "   2  16.00\n",
            "   3  13.00\n",
            "   4  15.00\n",
            "   5  15.00\n",
            "Rendimento Esperado\n",
            "   1  18.75\n",
            "   2  17.60\n",
            "   3  20.80\n",
            "   4  18.75\n",
            "   5  18.75\n",
            "Valor Total Investido\n",
            "   1  8000.00\n",
            "Rendimento Total / Mês\n",
            "   1  94.00\n",
            "Total de Fundos\n",
            "   1  74.00\n",
            "\n"
          ]
        }
      ]
    }
  ]
}