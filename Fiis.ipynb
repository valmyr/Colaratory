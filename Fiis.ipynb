{
  "nbformat": 4,
  "nbformat_minor": 0,
  "metadata": {
    "colab": {
      "name": "Fiis.ipynb",
      "provenance": [],
      "authorship_tag": "ABX9TyOVTolUGfOkjMYyY+djnyWP",
      "include_colab_link": true
    },
    "kernelspec": {
      "name": "python3",
      "display_name": "Python 3"
    },
    "language_info": {
      "name": "python"
    }
  },
  "cells": [
    {
      "cell_type": "markdown",
      "metadata": {
        "id": "view-in-github",
        "colab_type": "text"
      },
      "source": [
        "<a href=\"https://colab.research.google.com/github/valmyr/Colaratory/blob/main/Fiis.ipynb\" target=\"_parent\"><img src=\"https://colab.research.google.com/assets/colab-badge.svg\" alt=\"Open In Colab\"/></a>"
      ]
    },
    {
      "cell_type": "code",
      "execution_count": 137,
      "metadata": {
        "id": "gjV9IBe7zMdW"
      },
      "outputs": [],
      "source": [
        ""
      ]
    },
    {
      "cell_type": "code",
      "execution_count": 138,
      "metadata": {
        "id": "B4ivtOCJAn0F"
      },
      "outputs": [],
      "source": [
        "\n",
        "Fiis= {\"Nomes\": [\"RZTR11\",\"VGIR11\",\"MXRF11\"],\"Preço\":[100.50,99.71,9.12],\"Dividendo/Cota\":[1.25,1.10,0.09]}\n",
        "ValorInvestidoPorFundo = 2000"
      ]
    },
    {
      "cell_type": "code",
      "source": [
        "\n",
        "Fiis[\"Quantidade\"]=[int(ValorInvestidoPorFundo/Fiis.get(\"Preço\")[i])for i in range(len(Fiis.get(\"Preço\")))]\n",
        "Fiis[\"Rendimento Esperado\"] = [Fiis[\"Dividendo/Cota\"][i]*Fiis[\"Quantidade\"][i] for i in range(len(Fiis[\"Dividendo/Cota\"]))]\n",
        "Fiis[\"Valor Total Investido\"] = [len(Fiis[\"Nomes\"])*ValorInvestidoPorFundo]\n",
        "Fiis[\"Rendimento Total / Mês\"] = [int(sum(Fiis[\"Rendimento Esperado\"]))]\n",
        "\n",
        "Fiis[\"Total de Fundos\"] = [sum(Fiis[\"Quantidade\"])]"
      ],
      "metadata": {
        "id": "JV3AuXa-0Z-g"
      },
      "execution_count": 139,
      "outputs": []
    },
    {
      "cell_type": "code",
      "source": [
        "for i in Fiis:\n",
        "  print(i)\n",
        "  k = 1\n",
        "  for j in Fiis[i]:\n",
        "    print(f'{\" \"*2} {k}',\" \",end='')\n",
        "    if(type(j) == str):\n",
        "      print(f'{j}')\n",
        "    else:\n",
        "      print(f'{j:.2f}')\n",
        "    k+=1\n",
        "\n",
        "print()\n"
      ],
      "metadata": {
        "colab": {
          "base_uri": "https://localhost:8080/"
        },
        "id": "q21838ZX30Pc",
        "outputId": "7b9bdec5-23bc-4560-fb01-92ef1e485ef0"
      },
      "execution_count": 140,
      "outputs": [
        {
          "output_type": "stream",
          "name": "stdout",
          "text": [
            "Nomes\n",
            "   1  RZTR11\n",
            "   2  VGIR11\n",
            "   3  MXRF11\n",
            "Preço\n",
            "   1  100.50\n",
            "   2  99.71\n",
            "   3  9.12\n",
            "Dividendo/Cota\n",
            "   1  1.25\n",
            "   2  1.10\n",
            "   3  0.09\n",
            "Quantidade\n",
            "   1  19.00\n",
            "   2  20.00\n",
            "   3  219.00\n",
            "Rendimento Esperado\n",
            "   1  23.75\n",
            "   2  22.00\n",
            "   3  19.71\n",
            "Valor Total Investido\n",
            "   1  6000.00\n",
            "Rendimento Total / Mês\n",
            "   1  65.00\n",
            "Total de Fundos\n",
            "   1  258.00\n",
            "\n"
          ]
        }
      ]
    }
  ]
}